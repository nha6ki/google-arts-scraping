{
 "cells": [
  {
   "cell_type": "code",
   "execution_count": 1,
   "metadata": {},
   "outputs": [],
   "source": [
    "import cv2\n",
    "import glob\n",
    "from tqdm import tqdm\n",
    "import itertools"
   ]
  },
  {
   "cell_type": "code",
   "execution_count": 2,
   "metadata": {},
   "outputs": [],
   "source": [
    "LOAD_DIR = 'GAC_Dataset/Images_Edited/'\n",
    "#SAVE_DIR = LOAD_DIR\n",
    "SAVE_DIR = 'GAC_Dataset/Images_Edited/'"
   ]
  },
  {
   "cell_type": "code",
   "execution_count": 3,
   "metadata": {},
   "outputs": [],
   "source": [
    "i=84\n",
    "j=85\n",
    "data_n = len(glob.glob(LOAD_DIR+'*'))\n",
    "#data_n=10\n",
    "conb_list = list(itertools.combinations(range(8,data_n),2))"
   ]
  },
  {
   "cell_type": "code",
   "execution_count": null,
   "metadata": {},
   "outputs": [
    {
     "name": "stderr",
     "output_type": "stream",
     "text": [
      "  0%|          | 44761/54481141 [07:34<149:32:51, 101.11it/s]"
     ]
    }
   ],
   "source": [
    "ret_all_list = []\n",
    "ret_match_list = []\n",
    "\n",
    "bf = cv2.BFMatcher(cv2.NORM_HAMMING)\n",
    "# detector = cv2.ORB_create()\n",
    "detector = cv2.AKAZE_create()\n",
    "\n",
    "for i,j in tqdm(conb_list):\n",
    "    target_img = cv2.imread(LOAD_DIR + str(i) + '.jpg', cv2.IMREAD_GRAYSCALE)\n",
    "    (target_kp, target_des) = detector.detectAndCompute(target_img, None)\n",
    "    comparing_img = cv2.imread(LOAD_DIR + str(j) + '.jpg', cv2.IMREAD_GRAYSCALE)\n",
    "    (comparing_kp, comparing_des) = detector.detectAndCompute(comparing_img, None)\n",
    "        \n",
    "    try:\n",
    "        matches = bf.match(target_des, comparing_des)\n",
    "        dist = [m.distance for m in matches]\n",
    "        ret = sum(dist) / len(dist)\n",
    "    except:\n",
    "        ret = 100000\n",
    "\n",
    "    if ret < 70:\n",
    "        print((i,j))\n",
    "        ret_match_list.append([i,j,ret])\n",
    "    ret_all_list.append(ret)"
   ]
  },
  {
   "cell_type": "code",
   "execution_count": null,
   "metadata": {},
   "outputs": [],
   "source": []
  },
  {
   "cell_type": "code",
   "execution_count": null,
   "metadata": {},
   "outputs": [],
   "source": []
  },
  {
   "cell_type": "code",
   "execution_count": null,
   "metadata": {},
   "outputs": [],
   "source": []
  }
 ],
 "metadata": {
  "kernelspec": {
   "display_name": "Python 3",
   "language": "python",
   "name": "python3"
  },
  "language_info": {
   "codemirror_mode": {
    "name": "ipython",
    "version": 3
   },
   "file_extension": ".py",
   "mimetype": "text/x-python",
   "name": "python",
   "nbconvert_exporter": "python",
   "pygments_lexer": "ipython3",
   "version": "3.7.6"
  }
 },
 "nbformat": 4,
 "nbformat_minor": 4
}
