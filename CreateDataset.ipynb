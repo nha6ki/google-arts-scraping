{
 "cells": [
  {
   "cell_type": "code",
   "execution_count": 1,
   "metadata": {},
   "outputs": [],
   "source": [
    "import os\n",
    "import glob\n",
    "import shutil\n",
    "import pandas as pd\n",
    "from PIL import Image"
   ]
  },
  {
   "cell_type": "code",
   "execution_count": 2,
   "metadata": {},
   "outputs": [],
   "source": [
    "partner_list_from_Images = glob.glob('Images/*')\n",
    "partner_list_from_Images = sorted(partner_list_from_Images)\n",
    "partner_list = [s.replace('Images/','') for s in partner_list_from_Images]"
   ]
  },
  {
   "cell_type": "code",
   "execution_count": 3,
   "metadata": {},
   "outputs": [],
   "source": [
    "idx_all = 0\n",
    "df = pd.DataFrame([],index=['museum','url','detail'])\n",
    "for partner_name in partner_list:\n",
    "    image_idx_list = glob.glob('Images/'+partner_name+'/*')\n",
    "    image_idx_list = [int(s.replace('Images/'+partner_name+'/','')) for s in image_idx_list]\n",
    "    image_idx_list = sorted(image_idx_list)\n",
    "\n",
    "    for image_idx in image_idx_list:\n",
    "        shutil.copyfile('Images/' + partner_name + '/' + str(image_idx), 'GAC_Dataset/Images/' + str(idx_all)) # Copy Image\n",
    "        # Convert JPEG\n",
    "        pil_img = Image.open('GAC_Dataset/Images/' + str(idx_all), 'r')\n",
    "        rgb_img = pil_img.convert('RGB')\n",
    "        rgb_img.save('GAC_Dataset/Images/' + str(idx_all) + '.jpg', 'JPEG')\n",
    "        os.remove('GAC_Dataset/Images/' + str(idx_all))\n",
    "        # Save Detail\n",
    "        detail = pd.read_csv('Details/' + partner_name + '/' + str(image_idx) +'.csv',index_col=0).values.flatten()\n",
    "        url = 'https://artsandculture.google.com/partner/'\n",
    "        museum_url = url+partner_name\n",
    "        df[str(idx_all)] = [partner_name,museum_url,detail]\n",
    "\n",
    "        idx_all += 1"
   ]
  },
  {
   "cell_type": "code",
   "execution_count": 7,
   "metadata": {},
   "outputs": [],
   "source": [
    "df.T.to_csv('GAC_Dataset/details.csv')"
   ]
  },
  {
   "cell_type": "markdown",
   "metadata": {},
   "source": [
    "## Crop & Resize Images"
   ]
  },
  {
   "cell_type": "code",
   "execution_count": null,
   "metadata": {},
   "outputs": [],
   "source": [
    "LOAD_DIR = 'GAC_Dataset/Images/'\n",
    "#SAVE_DIR = LOAD_DIR\n",
    "SAVE_DIR = 'GAC_Dataset/Images_Edited/'"
   ]
  },
  {
   "cell_type": "code",
   "execution_count": null,
   "metadata": {},
   "outputs": [],
   "source": [
    "def crop_center(pil_img, crop_width, crop_height):\n",
    "    img_width, img_height = pil_img.size\n",
    "    return pil_img.crop(((img_width - crop_width) // 2,\n",
    "                         (img_height - crop_height) // 2,\n",
    "                         (img_width + crop_width) // 2,\n",
    "                         (img_height + crop_height) // 2))\n",
    "def crop_max_square(pil_img):\n",
    "    return crop_center(pil_img, min(pil_img.size), min(pil_img.size))"
   ]
  },
  {
   "cell_type": "code",
   "execution_count": null,
   "metadata": {},
   "outputs": [],
   "source": [
    "for i in range(len(glob.glob(LOAD_DIR+'*'))):\n",
    "    img = Image.open(LOAD_DIR + str(i) + '.jpg')\n",
    "    w,h = img.size\n",
    "\n",
    "    if w > h:\n",
    "        if w/h > 1.2:\n",
    "            img = crop_max_square(img)\n",
    "        img_new = img.resize((224, 224))\n",
    "    else:\n",
    "        if h/w > 1.2:\n",
    "            img = crop_max_square(img)\n",
    "        img_new = img.resize((224, 224))\n",
    "\n",
    "    img_new.save(SAVE_DIR + str(i) + '.jpg')"
   ]
  },
  {
   "cell_type": "code",
   "execution_count": null,
   "metadata": {},
   "outputs": [],
   "source": []
  },
  {
   "cell_type": "code",
   "execution_count": null,
   "metadata": {},
   "outputs": [],
   "source": []
  },
  {
   "cell_type": "code",
   "execution_count": null,
   "metadata": {},
   "outputs": [],
   "source": []
  }
 ],
 "metadata": {
  "kernelspec": {
   "display_name": "Python 3",
   "language": "python",
   "name": "python3"
  },
  "language_info": {
   "codemirror_mode": {
    "name": "ipython",
    "version": 3
   },
   "file_extension": ".py",
   "mimetype": "text/x-python",
   "name": "python",
   "nbconvert_exporter": "python",
   "pygments_lexer": "ipython3",
   "version": "3.7.6"
  }
 },
 "nbformat": 4,
 "nbformat_minor": 4
}
